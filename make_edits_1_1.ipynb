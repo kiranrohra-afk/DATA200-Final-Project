{
 "cells": [
  {
   "cell_type": "markdown",
   "id": "5f8c57c6-64d1-4a9a-8b70-dbd4a32e3655",
   "metadata": {},
   "source": [
    "## Importing Libraries"
   ]
  },
  {
   "cell_type": "code",
   "execution_count": 1,
   "id": "8d538e05-a89f-4d5c-9070-4019375931af",
   "metadata": {},
   "outputs": [],
   "source": [
    "import pandas as pd\n",
    "import numpy as np\n",
    "from sklearn.linear_model import LogisticRegression\n",
    "import warnings\n",
    "from sklearn import tree\n",
    "import numpy as np\n",
    "import matplotlib.pyplot as plt\n",
    "import sklearn.linear_model as lm\n",
    "import seaborn as sns\n",
    "from sklearn.linear_model import LinearRegression\n",
    "warnings.filterwarnings(\"ignore\")"
   ]
  },
  {
   "cell_type": "markdown",
   "id": "85fc97c0-1d1c-476e-a3e2-c867df59025a",
   "metadata": {},
   "source": [
    "# Classification"
   ]
  },
  {
   "cell_type": "markdown",
   "id": "7abf21d3-d703-4699-8cae-b0ba5dda2050",
   "metadata": {},
   "source": [
    "## Cleaning"
   ]
  },
  {
   "cell_type": "code",
   "execution_count": 2,
   "id": "51a61d36-247d-4a67-b455-7ddc5a6211a4",
   "metadata": {},
   "outputs": [],
   "source": [
    "difficulty=pd.read_csv(\"Difficulty2.csv\")\n",
    "difficulty=difficulty.drop(np.arange(0,8))\n",
    "difficulty=difficulty.drop(np.arange(190,223))\n",
    "difficulty=difficulty.drop(difficulty.columns[0],axis=1)\n",
    "difficulty.rename(columns=dict(zip(difficulty.columns, difficulty.loc[8])), inplace=True)\n",
    "difficulty=difficulty.drop([8,9])\n",
    "difficulty=difficulty.reset_index().drop(\"index\",axis=1)\n",
    "difficulty=difficulty.fillna(method=\"ffill\")\n",
    "difficulty=difficulty.rename(columns={difficulty.columns[4]:\"Percentage\"})\n",
    "difficulty=difficulty.drop(\"Reference period\",axis=1)\n",
    "total_groups=difficulty[difficulty.columns[1]].unique()\n",
    "age_group=total_groups[1:5]\n",
    "total_groups\n",
    "age=difficulty[difficulty[\"Sociodemographic characteristics\"].isin(age_group)].reset_index().drop(\"index\",axis=1)\n"
   ]
  },
  {
   "cell_type": "markdown",
   "id": "7764cc7c-240a-4603-9749-7c63198e6316",
   "metadata": {},
   "source": [
    "### Creating a New Dataframe with parameters & predictions"
   ]
  },
  {
   "cell_type": "code",
   "execution_count": 3,
   "id": "becfac64-7fd8-4426-8c15-2aff484679af",
   "metadata": {},
   "outputs": [
    {
     "data": {
      "text/html": [
       "<div>\n",
       "<style scoped>\n",
       "    .dataframe tbody tr th:only-of-type {\n",
       "        vertical-align: middle;\n",
       "    }\n",
       "\n",
       "    .dataframe tbody tr th {\n",
       "        vertical-align: top;\n",
       "    }\n",
       "\n",
       "    .dataframe thead th {\n",
       "        text-align: right;\n",
       "    }\n",
       "</style>\n",
       "<table border=\"1\" class=\"dataframe\">\n",
       "  <thead>\n",
       "    <tr style=\"text-align: right;\">\n",
       "      <th></th>\n",
       "      <th>Indicators</th>\n",
       "      <th>Percentage</th>\n",
       "      <th>Gender_Men</th>\n",
       "      <th>Gender_Women</th>\n",
       "      <th>Sociodemographic characteristics_15 to 24 years</th>\n",
       "      <th>Sociodemographic characteristics_25 to 54 years</th>\n",
       "      <th>Sociodemographic characteristics_55 to 64 years</th>\n",
       "      <th>Sociodemographic characteristics_65 years and over</th>\n",
       "    </tr>\n",
       "  </thead>\n",
       "  <tbody>\n",
       "    <tr>\n",
       "      <th>2</th>\n",
       "      <td>Easy or very easy for household to meet financ...</td>\n",
       "      <td>40.5</td>\n",
       "      <td>True</td>\n",
       "      <td>False</td>\n",
       "      <td>True</td>\n",
       "      <td>False</td>\n",
       "      <td>False</td>\n",
       "      <td>False</td>\n",
       "    </tr>\n",
       "    <tr>\n",
       "      <th>3</th>\n",
       "      <td>Very difficult or difficult for household to m...</td>\n",
       "      <td>39.3</td>\n",
       "      <td>True</td>\n",
       "      <td>False</td>\n",
       "      <td>False</td>\n",
       "      <td>True</td>\n",
       "      <td>False</td>\n",
       "      <td>False</td>\n",
       "    </tr>\n",
       "    <tr>\n",
       "      <th>7</th>\n",
       "      <td>Neither difficult nor easy for household to me...</td>\n",
       "      <td>36.7</td>\n",
       "      <td>True</td>\n",
       "      <td>False</td>\n",
       "      <td>False</td>\n",
       "      <td>False</td>\n",
       "      <td>True</td>\n",
       "      <td>False</td>\n",
       "    </tr>\n",
       "    <tr>\n",
       "      <th>11</th>\n",
       "      <td>Easy or very easy for household to meet financ...</td>\n",
       "      <td>39.3</td>\n",
       "      <td>True</td>\n",
       "      <td>False</td>\n",
       "      <td>False</td>\n",
       "      <td>False</td>\n",
       "      <td>False</td>\n",
       "      <td>True</td>\n",
       "    </tr>\n",
       "    <tr>\n",
       "      <th>14</th>\n",
       "      <td>Easy or very easy for household to meet financ...</td>\n",
       "      <td>37.7</td>\n",
       "      <td>False</td>\n",
       "      <td>True</td>\n",
       "      <td>True</td>\n",
       "      <td>False</td>\n",
       "      <td>False</td>\n",
       "      <td>False</td>\n",
       "    </tr>\n",
       "  </tbody>\n",
       "</table>\n",
       "</div>"
      ],
      "text/plain": [
       "                                           Indicators Percentage  Gender_Men  \\\n",
       "2   Easy or very easy for household to meet financ...       40.5        True   \n",
       "3   Very difficult or difficult for household to m...       39.3        True   \n",
       "7   Neither difficult nor easy for household to me...       36.7        True   \n",
       "11  Easy or very easy for household to meet financ...       39.3        True   \n",
       "14  Easy or very easy for household to meet financ...       37.7       False   \n",
       "\n",
       "    Gender_Women  Sociodemographic characteristics_15 to 24 years  \\\n",
       "2          False                                             True   \n",
       "3          False                                            False   \n",
       "7          False                                            False   \n",
       "11         False                                            False   \n",
       "14          True                                             True   \n",
       "\n",
       "    Sociodemographic characteristics_25 to 54 years  \\\n",
       "2                                             False   \n",
       "3                                              True   \n",
       "7                                             False   \n",
       "11                                            False   \n",
       "14                                            False   \n",
       "\n",
       "    Sociodemographic characteristics_55 to 64 years  \\\n",
       "2                                             False   \n",
       "3                                             False   \n",
       "7                                              True   \n",
       "11                                            False   \n",
       "14                                            False   \n",
       "\n",
       "    Sociodemographic characteristics_65 years and over  \n",
       "2                                               False   \n",
       "3                                               False   \n",
       "7                                               False   \n",
       "11                                               True   \n",
       "14                                              False   "
      ]
     },
     "execution_count": 3,
     "metadata": {},
     "output_type": "execute_result"
    }
   ],
   "source": [
    "age_classes=age.iloc[age.groupby([\"Gender\",\"Sociodemographic characteristics\"])[\"Percentage\"].idxmax()]\n",
    "age_classes_encoded = pd.get_dummies(age_classes, columns=['Gender', 'Sociodemographic characteristics'])\n",
    "X = age_classes_encoded.drop(columns=['Indicators',\"Percentage\"])\n",
    "y = age_classes_encoded['Indicators']\n",
    "logistic_regression_model = LogisticRegression()\n",
    "logistic_regression_model.fit(X, y);\n",
    "age_classes_encoded.head()"
   ]
  },
  {
   "cell_type": "markdown",
   "id": "90de2782-450b-41c0-bc49-f0356849728e",
   "metadata": {},
   "source": [
    "Based on this data, there is not a big difference between Genders, but a lot of difference between ages. Ages 15-24 find it easy or very easy for their household to meet financial needs. 25054 seems to find it the hardest, and 55-64 does not find it difficult nor easy. Over 65 seems to find it easy or very easy. It's important to recognise that this data was aggregated before, and does not have individual records due to Statistics Canada. Therefore, this model uses the maximum for each class to predict. Averages do not apply to individuals. Since we do not have individual records, we cannot use cross validation to test accuracy. We will do that elsewhere."
   ]
  },
  {
   "cell_type": "markdown",
   "id": "dded6390-60c9-4859-a6be-55787209ba1d",
   "metadata": {},
   "source": [
    "### This is our first classification model predicting based on age & gender."
   ]
  },
  {
   "cell_type": "code",
   "execution_count": 4,
   "id": "94805de9-1700-4813-8b51-7d2354322267",
   "metadata": {},
   "outputs": [
    {
     "data": {
      "text/plain": [
       "array(['Easy or very easy for household to meet financial needs 4',\n",
       "       'Neither difficult nor easy for household to meet financial needs 4',\n",
       "       'Very difficult or difficult for household to meet financial needs 4'],\n",
       "      dtype=object)"
      ]
     },
     "execution_count": 4,
     "metadata": {},
     "output_type": "execute_result"
    }
   ],
   "source": [
    "logistic_regression_model.predict([[True,False,False,False,False,True],\n",
    "                                   [False,True,False,False,True,False],[True,False,False,True,False,False]])"
   ]
  },
  {
   "cell_type": "markdown",
   "id": "7d3df6e6-3eae-4338-8cd2-be3006c9f29c",
   "metadata": {},
   "source": [
    "## Creating another Classification Model based on gender & education level"
   ]
  },
  {
   "cell_type": "code",
   "execution_count": 5,
   "id": "8c0f7913-a33e-4c78-8390-cd31776168a2",
   "metadata": {},
   "outputs": [],
   "source": [
    "education_groups = total_groups[21:25]\n",
    "filtered_df = difficulty[difficulty[\"Sociodemographic characteristics\"].isin(education_groups)]\n",
    "\n",
    "# Now, group by gender and \"Sociodemographic characteristics\", and find the row with the maximum percentage within each group\n",
    "education_classes = filtered_df.loc[filtered_df.groupby([\"Gender\", \"Sociodemographic characteristics\"])[\"Percentage\"].idxmax()]\n",
    "education_classes_encoded = pd.get_dummies(education_classes, columns=['Gender', 'Sociodemographic characteristics'])\n",
    "X2 = education_classes_encoded.drop(columns=['Indicators',\"Percentage\",\n",
    "                                             \"Sociodemographic characteristics_Total, highest certificate, diploma or degree\"])\n",
    "y2 = education_classes_encoded['Indicators']\n",
    "logistic_regression_model2 = LogisticRegression()\n",
    "logistic_regression_model2.fit(X2, y2);"
   ]
  },
  {
   "cell_type": "markdown",
   "id": "e54a605d-b954-44f1-8bde-1a60ded2a460",
   "metadata": {},
   "source": [
    "The above code filters the dataset to focus on certain sociodemographic groups based on education. It then further filters the Dataframe to include only rows where the \"Sociodemographic characteristics\" match these education groups. After filtering, it groups the data by gender and sociodemographic characteristics, selecting the row with the highest percentage within each group to form the education classes. These classes are then encoded using one-hot encoding to transform categorical variables ('Gender' and 'Sociodemographic characteristics') into numerical. "
   ]
  },
  {
   "cell_type": "code",
   "execution_count": 6,
   "id": "5780ce42-89c6-48e2-bc37-11097818bbe7",
   "metadata": {},
   "outputs": [
    {
     "data": {
      "text/plain": [
       "array(['Neither difficult nor easy for household to meet financial needs 4'],\n",
       "      dtype=object)"
      ]
     },
     "execution_count": 6,
     "metadata": {},
     "output_type": "execute_result"
    }
   ],
   "source": [
    "logistic_regression_model2.predict([[True,False,True,False,False]])"
   ]
  },
  {
   "cell_type": "code",
   "execution_count": 7,
   "id": "47e0d973-00fe-4700-9102-311458254ecc",
   "metadata": {},
   "outputs": [
    {
     "data": {
      "text/html": [
       "<div>\n",
       "<style scoped>\n",
       "    .dataframe tbody tr th:only-of-type {\n",
       "        vertical-align: middle;\n",
       "    }\n",
       "\n",
       "    .dataframe tbody tr th {\n",
       "        vertical-align: top;\n",
       "    }\n",
       "\n",
       "    .dataframe thead th {\n",
       "        text-align: right;\n",
       "    }\n",
       "</style>\n",
       "<table border=\"1\" class=\"dataframe\">\n",
       "  <thead>\n",
       "    <tr style=\"text-align: right;\">\n",
       "      <th></th>\n",
       "      <th>Indicators</th>\n",
       "      <th>Percentage</th>\n",
       "      <th>Gender_Men</th>\n",
       "      <th>Gender_Women</th>\n",
       "      <th>Sociodemographic characteristics_No certificate, diploma or degree</th>\n",
       "      <th>Sociodemographic characteristics_Postsecondary certificate, diploma or degree</th>\n",
       "      <th>Sociodemographic characteristics_Secondary (high) school diploma or equivalency certificate</th>\n",
       "    </tr>\n",
       "  </thead>\n",
       "  <tbody>\n",
       "    <tr>\n",
       "      <th>67</th>\n",
       "      <td>Neither difficult nor easy for household to me...</td>\n",
       "      <td>37.6</td>\n",
       "      <td>True</td>\n",
       "      <td>False</td>\n",
       "      <td>True</td>\n",
       "      <td>False</td>\n",
       "      <td>False</td>\n",
       "    </tr>\n",
       "    <tr>\n",
       "      <th>73</th>\n",
       "      <td>Neither difficult nor easy for household to me...</td>\n",
       "      <td>34.2</td>\n",
       "      <td>True</td>\n",
       "      <td>False</td>\n",
       "      <td>False</td>\n",
       "      <td>True</td>\n",
       "      <td>False</td>\n",
       "    </tr>\n",
       "    <tr>\n",
       "      <th>70</th>\n",
       "      <td>Neither difficult nor easy for household to me...</td>\n",
       "      <td>38</td>\n",
       "      <td>True</td>\n",
       "      <td>False</td>\n",
       "      <td>False</td>\n",
       "      <td>False</td>\n",
       "      <td>True</td>\n",
       "    </tr>\n",
       "    <tr>\n",
       "      <th>64</th>\n",
       "      <td>Neither difficult nor easy for household to me...</td>\n",
       "      <td>35.7</td>\n",
       "      <td>True</td>\n",
       "      <td>False</td>\n",
       "      <td>False</td>\n",
       "      <td>False</td>\n",
       "      <td>False</td>\n",
       "    </tr>\n",
       "    <tr>\n",
       "      <th>156</th>\n",
       "      <td>Very difficult or difficult for household to m...</td>\n",
       "      <td>36.1</td>\n",
       "      <td>False</td>\n",
       "      <td>True</td>\n",
       "      <td>True</td>\n",
       "      <td>False</td>\n",
       "      <td>False</td>\n",
       "    </tr>\n",
       "  </tbody>\n",
       "</table>\n",
       "</div>"
      ],
      "text/plain": [
       "                                            Indicators Percentage  Gender_Men  \\\n",
       "67   Neither difficult nor easy for household to me...       37.6        True   \n",
       "73   Neither difficult nor easy for household to me...       34.2        True   \n",
       "70   Neither difficult nor easy for household to me...         38        True   \n",
       "64   Neither difficult nor easy for household to me...       35.7        True   \n",
       "156  Very difficult or difficult for household to m...       36.1       False   \n",
       "\n",
       "     Gender_Women  \\\n",
       "67          False   \n",
       "73          False   \n",
       "70          False   \n",
       "64          False   \n",
       "156          True   \n",
       "\n",
       "     Sociodemographic characteristics_No certificate, diploma or degree  \\\n",
       "67                                                True                    \n",
       "73                                               False                    \n",
       "70                                               False                    \n",
       "64                                               False                    \n",
       "156                                               True                    \n",
       "\n",
       "     Sociodemographic characteristics_Postsecondary certificate, diploma or degree  \\\n",
       "67                                               False                               \n",
       "73                                                True                               \n",
       "70                                               False                               \n",
       "64                                               False                               \n",
       "156                                              False                               \n",
       "\n",
       "     Sociodemographic characteristics_Secondary (high) school diploma or equivalency certificate  \n",
       "67                                               False                                            \n",
       "73                                               False                                            \n",
       "70                                                True                                            \n",
       "64                                               False                                            \n",
       "156                                              False                                            "
      ]
     },
     "execution_count": 7,
     "metadata": {},
     "output_type": "execute_result"
    }
   ],
   "source": [
    "education_classes_encoded.drop(\"Sociodemographic characteristics_Total, highest certificate, diploma or degree\",axis=1).head()"
   ]
  },
  {
   "cell_type": "markdown",
   "id": "a46549a5-5b5c-4ebf-abaa-e182344e0284",
   "metadata": {},
   "source": [
    "We used a pre-trained logistic regression model to predict an outcome based on a specific set of Boolean features, indicating the presence or absence of certain characteristics. Following this prediction, it modifies the `education_classes_encoded` DataFrame by removing a specific column related to sociodemographic characteristics concerning education levels. "
   ]
  },
  {
   "cell_type": "markdown",
   "id": "7f2a4d8f-35f9-46d3-bf27-5e223a90c892",
   "metadata": {},
   "source": [
    "# Using CPI as a Measure of Inflation"
   ]
  },
  {
   "cell_type": "markdown",
   "id": "db2b0cb6-4308-4f1a-97dd-17e308f04cb8",
   "metadata": {},
   "source": [
    "## Importing Libraries"
   ]
  },
  {
   "cell_type": "code",
   "execution_count": 8,
   "id": "188f51a7-3acb-4a14-b5a6-43dd9ac16872",
   "metadata": {},
   "outputs": [],
   "source": [
    "from sklearn.model_selection import TimeSeriesSplit\n",
    "from sklearn.metrics import mean_squared_error"
   ]
  },
  {
   "cell_type": "markdown",
   "id": "d3c2a811-4f67-40b8-a527-6011ee98e97f",
   "metadata": {},
   "source": [
    "## Cleaning the CPI data"
   ]
  },
  {
   "cell_type": "code",
   "execution_count": 9,
   "id": "ab7164ed-5a6d-48c7-b191-4fb6533c003e",
   "metadata": {},
   "outputs": [
    {
     "data": {
      "text/html": [
       "<div>\n",
       "<style scoped>\n",
       "    .dataframe tbody tr th:only-of-type {\n",
       "        vertical-align: middle;\n",
       "    }\n",
       "\n",
       "    .dataframe tbody tr th {\n",
       "        vertical-align: top;\n",
       "    }\n",
       "\n",
       "    .dataframe thead th {\n",
       "        text-align: right;\n",
       "    }\n",
       "</style>\n",
       "<table border=\"1\" class=\"dataframe\">\n",
       "  <thead>\n",
       "    <tr style=\"text-align: right;\">\n",
       "      <th></th>\n",
       "      <th>Jan-76</th>\n",
       "      <th>Feb-76</th>\n",
       "      <th>Mar-76</th>\n",
       "      <th>Apr-76</th>\n",
       "      <th>May-76</th>\n",
       "      <th>Jun-76</th>\n",
       "      <th>Jul-76</th>\n",
       "      <th>Aug-76</th>\n",
       "      <th>Sep-76</th>\n",
       "      <th>Oct-76</th>\n",
       "      <th>...</th>\n",
       "      <th>Mar-22</th>\n",
       "      <th>Apr-22</th>\n",
       "      <th>May-22</th>\n",
       "      <th>Jun-22</th>\n",
       "      <th>Jul-22</th>\n",
       "      <th>Aug-22</th>\n",
       "      <th>Sep-22</th>\n",
       "      <th>Oct-22</th>\n",
       "      <th>Nov-22</th>\n",
       "      <th>Dec-22</th>\n",
       "    </tr>\n",
       "  </thead>\n",
       "  <tbody>\n",
       "    <tr>\n",
       "      <th>0</th>\n",
       "      <td>30.3</td>\n",
       "      <td>30.5</td>\n",
       "      <td>30.6</td>\n",
       "      <td>30.7</td>\n",
       "      <td>30.9</td>\n",
       "      <td>31.1</td>\n",
       "      <td>31.3</td>\n",
       "      <td>31.3</td>\n",
       "      <td>31.5</td>\n",
       "      <td>31.7</td>\n",
       "      <td>...</td>\n",
       "      <td>148.9</td>\n",
       "      <td>149.8</td>\n",
       "      <td>151.9</td>\n",
       "      <td>152.9</td>\n",
       "      <td>153.1</td>\n",
       "      <td>152.6</td>\n",
       "      <td>152.7</td>\n",
       "      <td>153.8</td>\n",
       "      <td>154</td>\n",
       "      <td>153.1</td>\n",
       "    </tr>\n",
       "  </tbody>\n",
       "</table>\n",
       "<p>1 rows × 564 columns</p>\n",
       "</div>"
      ],
      "text/plain": [
       "0 Jan-76 Feb-76 Mar-76 Apr-76 May-76 Jun-76 Jul-76 Aug-76 Sep-76 Oct-76  ...  \\\n",
       "0   30.3   30.5   30.6   30.7   30.9   31.1   31.3   31.3   31.5   31.7  ...   \n",
       "\n",
       "0 Mar-22 Apr-22 May-22 Jun-22 Jul-22 Aug-22 Sep-22 Oct-22 Nov-22 Dec-22  \n",
       "0  148.9  149.8  151.9  152.9  153.1  152.6  152.7  153.8    154  153.1  \n",
       "\n",
       "[1 rows x 564 columns]"
      ]
     },
     "execution_count": 9,
     "metadata": {},
     "output_type": "execute_result"
    }
   ],
   "source": [
    "#Use only the all items rows\n",
    "CPI = pd.read_csv(\"CPI.csv\")\n",
    "CPI.columns = CPI.iloc[0]\n",
    "CPI = CPI.drop(CPI.index[[0,1]]).head(1)\n",
    "CPI.reset_index(drop=True, inplace=True)\n",
    "CPI = CPI.iloc[:, 1:]\n",
    "CPI"
   ]
  },
  {
   "cell_type": "code",
   "execution_count": 10,
   "id": "3265902a-1b16-4523-a3cf-0715e6a820ac",
   "metadata": {},
   "outputs": [],
   "source": [
    "num_datasets = len(CPI.columns) // 12\n",
    "\n",
    "# store datasets for each set of 12 columns\n",
    "datasets_by_set = {}\n",
    "\n",
    "for i in range(num_datasets):\n",
    "    start_idx = i * 12\n",
    "    end_idx = (i + 1) * 12\n",
    "    dataset_for_set = CPI.iloc[:, start_idx:end_idx]\n",
    "    datasets_by_set[f\"Dataset {i+1}\"] = dataset_for_set"
   ]
  },
  {
   "cell_type": "code",
   "execution_count": 11,
   "id": "513ae44f-05fd-451e-883e-a6bbc9fd3175",
   "metadata": {},
   "outputs": [],
   "source": [
    "for dataset_name, dataset in datasets_by_set.items():\n",
    "    # Transpose the dataset\n",
    "    transposed_dataset = dataset.T  # Transpose to make years as rows\n",
    "    \n",
    "    # Convert the datatype of rows to numeric\n",
    "    transposed_dataset = transposed_dataset.apply(pd.to_numeric, errors='coerce')"
   ]
  },
  {
   "cell_type": "code",
   "execution_count": 12,
   "id": "439bccbb-8606-47b2-8c31-5791fe799256",
   "metadata": {},
   "outputs": [],
   "source": [
    "average_inflation_list = []\n",
    "\n",
    "for dataset_name, dataset in datasets_by_set.items():\n",
    "    # Convert the dataset to numeric, ignoring non-numeric values\n",
    "    dataset_numeric = dataset.apply(pd.to_numeric, errors='coerce')\n",
    "    average_inflation_rate = dataset_numeric.mean().mean()\n",
    "    average_inflation_rate = round(average_inflation_rate, 2)\n",
    "\n",
    "    # append\n",
    "    average_inflation_list.append((dataset_name, average_inflation_rate))\n",
    "\n",
    "#print(average_inflation_list)"
   ]
  },
  {
   "cell_type": "code",
   "execution_count": 13,
   "id": "ffec7ea3-efce-48ed-b8b5-e3e8b08f2de0",
   "metadata": {},
   "outputs": [],
   "source": [
    "# Extract years and rounded average inflation rates from the result\n",
    "years = list(range(1976, 2022 + 1))  # Adjust the range to match the length of inflation_rates\n",
    "inflation_rates = [round(rate, 2) for _, rate in average_inflation_list]"
   ]
  },
  {
   "cell_type": "markdown",
   "id": "cc55c409-697e-44f6-a711-b9fd6e6d701b",
   "metadata": {},
   "source": [
    "## Using Cross-Validation to Perform Linear Regression"
   ]
  },
  {
   "cell_type": "code",
   "execution_count": 14,
   "id": "9f55aaf4-77bb-4e37-a0a4-b5a86eb9d6ad",
   "metadata": {},
   "outputs": [
    {
     "name": "stdout",
     "output_type": "stream",
     "text": [
      "Average MSE: 54.753810311858125\n",
      "Regression score on training set: 0.9784234305151553\n",
      "Regression score on test set: -2.7192284666836186\n"
     ]
    },
    {
     "data": {
      "image/png": "[encoded data removed]",
      "text/plain": [
       "<Figure size 640x480 with 1 Axes>"
      ]
     },
     "metadata": {},
     "output_type": "display_data"
    }
   ],
   "source": [
    "# Define features (years) and target (inflation rates)\n",
    "X = np.array(years).reshape(-1, 1)\n",
    "y = np.array(inflation_rates)\n",
    "\n",
    "# Initialize TimeSeriesSplit\n",
    "tscv = TimeSeriesSplit(n_splits=5)\n",
    "\n",
    "# Initialize Linear Regression model\n",
    "model = LinearRegression()\n",
    "\n",
    "# Perform time series cross-validation\n",
    "mse_scores = []\n",
    "\n",
    "# Plot the actual values\n",
    "plt.scatter(X, y, color='blue', label='Actual')\n",
    "\n",
    "# Initialize an empty array to store all predicted values\n",
    "all_predicted_values = np.array([])\n",
    "\n",
    "#Initialze test and training accuracy array\n",
    "test_accuracy_array = []\n",
    "training_accuracy_array = []\n",
    "\n",
    "# Perform time series cross-validation\n",
    "for train_index, test_index in tscv.split(X):\n",
    "    X_train, X_test = X[train_index], X[test_index]\n",
    "    y_train, y_test = y[train_index], y[test_index]\n",
    "    \n",
    "    # Fit the model on training data\n",
    "    model.fit(X_train, y_train)\n",
    "\n",
    "    # Calculate accuracy on training set\n",
    "    training_accuracy = model.score(X_train, y_train)\n",
    "    training_accuracy_array.append(training_accuracy)\n",
    "    \n",
    "    # Calculate accuracy on test set\n",
    "    test_accuracy = model.score(X_test, y_test)\n",
    "    test_accuracy_array.append(test_accuracy)\n",
    "    \n",
    "    # Predict on testing data and store the predictions\n",
    "    y_pred = model.predict(X_test)\n",
    "    all_predicted_values = np.concatenate((all_predicted_values, y_pred))\n",
    "\n",
    "    # Calculate mean squared error\n",
    "    mse = mean_squared_error(y_test, y_pred)\n",
    "    mse_scores.append(mse)\n",
    "\n",
    "# Calculate average MSE across all folds\n",
    "avg_mse = np.mean(mse_scores)\n",
    "print(\"Average MSE:\", avg_mse)\n",
    "\n",
    "#Calculate average model accuracy\n",
    "avg_test = np.mean(test_accuracy_array)\n",
    "avg_train = np.mean(training_accuracy_array)\n",
    "print (f'Regression score on training set: {avg_train}')\n",
    "print (f'Regression score on test set: {avg_test}')\n",
    "\n",
    "# Train the model on the entire dataset\n",
    "model.fit(X, y)\n",
    "\n",
    "# Predict on the entire dataset\n",
    "y_pred_all = model.predict(X)\n",
    "\n",
    "# Plot the model's predictions for the entire dataset\n",
    "plt.plot(X, y_pred_all, color='red', linestyle='--', label='Predicted')\n",
    "\n",
    "# Plot formatting\n",
    "plt.title('Cross-Validation Linear Regression: Years vs Inflation Rate')\n",
    "plt.xlabel('Years')\n",
    "plt.ylabel('Inflation Rates')\n",
    "plt.legend()\n",
    "plt.grid(True)\n",
    "plt.show()"
   ]
  },
  {
   "cell_type": "markdown",
   "id": "760d4635-a674-4678-b8f4-349d250cbae5",
   "metadata": {},
   "source": [
    "## Plotting the Residuals"
   ]
  },
  {
   "cell_type": "code",
   "execution_count": 15,
   "id": "73ee01b5-d305-4204-94ef-2b8ba068644e",
   "metadata": {},
   "outputs": [
    {
     "data": {
      "text/plain": [
       "Text(0.5, 1.0, 'Residual Plot')"
      ]
     },
     "execution_count": 15,
     "metadata": {},
     "output_type": "execute_result"
    },
    {
     "data": {
      "image/png": "[encoded data removed]",
      "text/plain": [
       "<Figure size 500x500 with 1 Axes>"
      ]
     },
     "metadata": {},
     "output_type": "display_data"
    }
   ],
   "source": [
    "residuals = y_pred - y_test\n",
    "residual_df = pd.DataFrame({'actual': y_test, 'predicted': y_pred, 'residual': residuals}) \n",
    "sns.lmplot(data=residual_df, x = \"actual\", y = \"predicted\")\n",
    "plt.title(\"Residual Plot\")"
   ]
  }
 ],
 "metadata": {
  "kernelspec": {
   "display_name": "Python 3 (ipykernel)",
   "language": "python",
   "name": "python3"
  },
  "language_info": {
   "codemirror_mode": {
    "name": "ipython",
    "version": 3
   },
   "file_extension": ".py",
   "mimetype": "text/x-python",
   "name": "python",
   "nbconvert_exporter": "python",
   "pygments_lexer": "ipython3",
   "version": "3.11.6"
  }
 },
 "nbformat": 4,
 "nbformat_minor": 5
}
