{
 "cells": [
  {
   "cell_type": "markdown",
   "id": "5f8c57c6-64d1-4a9a-8b70-dbd4a32e3655",
   "metadata": {},
   "source": [
    "## Importing Libraries"
   ]
  },
  {
   "cell_type": "code",
   "execution_count": 37,
   "id": "8d538e05-a89f-4d5c-9070-4019375931af",
   "metadata": {},
   "outputs": [],
   "source": [
    "import pandas as pd\n",
    "import numpy as np\n",
    "from sklearn.linear_model import LogisticRegression\n",
    "import warnings\n",
    "from sklearn import tree\n",
    "import numpy as np\n",
    "import matplotlib.pyplot as plt\n",
    "import sklearn.linear_model as lm\n",
    "import seaborn as sns\n",
    "from sklearn.linear_model import LinearRegression\n",
    "warnings.filterwarnings(\"ignore\")"
   ]
  },
  {
   "cell_type": "markdown",
   "id": "85fc97c0-1d1c-476e-a3e2-c867df59025a",
   "metadata": {},
   "source": [
    "# Classification"
   ]
  },
  {
   "cell_type": "markdown",
   "id": "7abf21d3-d703-4699-8cae-b0ba5dda2050",
   "metadata": {},
   "source": [
    "## Cleaning"
   ]
  },
  {
   "cell_type": "code",
   "execution_count": 38,
   "id": "51a61d36-247d-4a67-b455-7ddc5a6211a4",
   "metadata": {},
   "outputs": [],
   "source": [
    "difficulty=pd.read_csv(\"Difficulty2.csv\")\n",
    "difficulty=difficulty.drop(np.arange(0,8))\n",
    "difficulty=difficulty.drop(np.arange(190,223))\n",
    "difficulty=difficulty.drop(difficulty.columns[0],axis=1)\n",
    "difficulty.rename(columns=dict(zip(difficulty.columns, difficulty.loc[8])), inplace=True)\n",
    "difficulty=difficulty.drop([8,9])\n",
    "difficulty=difficulty.reset_index().drop(\"index\",axis=1)\n",
    "difficulty=difficulty.fillna(method=\"ffill\")\n",
    "difficulty=difficulty.rename(columns={difficulty.columns[4]:\"Percentage\"})\n",
    "difficulty=difficulty.drop(\"Reference period\",axis=1)\n",
    "total_groups=difficulty[difficulty.columns[1]].unique()\n",
    "age_group=total_groups[1:5]\n",
    "total_groups\n",
    "age=difficulty[difficulty[\"Sociodemographic characteristics\"].isin(age_group)].reset_index().drop(\"index\",axis=1)\n"
   ]
  },
  {
   "cell_type": "markdown",
   "id": "7764cc7c-240a-4603-9749-7c63198e6316",
   "metadata": {},
   "source": [
    "### Creating a New Dataframe with parameters & predictions"
   ]
  },
  {
   "cell_type": "code",
   "execution_count": 39,
   "id": "becfac64-7fd8-4426-8c15-2aff484679af",
   "metadata": {},
   "outputs": [
    {
     "data": {
      "text/html": [
       "<div>\n",
       "<style scoped>\n",
       "    .dataframe tbody tr th:only-of-type {\n",
       "        vertical-align: middle;\n",
       "    }\n",
       "\n",
       "    .dataframe tbody tr th {\n",
       "        vertical-align: top;\n",
       "    }\n",
       "\n",
       "    .dataframe thead th {\n",
       "        text-align: right;\n",
       "    }\n",
       "</style>\n",
       "<table border=\"1\" class=\"dataframe\">\n",
       "  <thead>\n",
       "    <tr style=\"text-align: right;\">\n",
       "      <th></th>\n",
       "      <th>Indicators</th>\n",
       "      <th>Percentage</th>\n",
       "      <th>Gender_Men</th>\n",
       "      <th>Gender_Women</th>\n",
       "      <th>Sociodemographic characteristics_15 to 24 years</th>\n",
       "      <th>Sociodemographic characteristics_25 to 54 years</th>\n",
       "      <th>Sociodemographic characteristics_55 to 64 years</th>\n",
       "      <th>Sociodemographic characteristics_65 years and over</th>\n",
       "    </tr>\n",
       "  </thead>\n",
       "  <tbody>\n",
       "    <tr>\n",
       "      <th>2</th>\n",
       "      <td>Easy or very easy for household to meet financ...</td>\n",
       "      <td>40.5</td>\n",
       "      <td>True</td>\n",
       "      <td>False</td>\n",
       "      <td>True</td>\n",
       "      <td>False</td>\n",
       "      <td>False</td>\n",
       "      <td>False</td>\n",
       "    </tr>\n",
       "    <tr>\n",
       "      <th>3</th>\n",
       "      <td>Very difficult or difficult for household to m...</td>\n",
       "      <td>39.3</td>\n",
       "      <td>True</td>\n",
       "      <td>False</td>\n",
       "      <td>False</td>\n",
       "      <td>True</td>\n",
       "      <td>False</td>\n",
       "      <td>False</td>\n",
       "    </tr>\n",
       "    <tr>\n",
       "      <th>7</th>\n",
       "      <td>Neither difficult nor easy for household to me...</td>\n",
       "      <td>36.7</td>\n",
       "      <td>True</td>\n",
       "      <td>False</td>\n",
       "      <td>False</td>\n",
       "      <td>False</td>\n",
       "      <td>True</td>\n",
       "      <td>False</td>\n",
       "    </tr>\n",
       "    <tr>\n",
       "      <th>11</th>\n",
       "      <td>Easy or very easy for household to meet financ...</td>\n",
       "      <td>39.3</td>\n",
       "      <td>True</td>\n",
       "      <td>False</td>\n",
       "      <td>False</td>\n",
       "      <td>False</td>\n",
       "      <td>False</td>\n",
       "      <td>True</td>\n",
       "    </tr>\n",
       "    <tr>\n",
       "      <th>14</th>\n",
       "      <td>Easy or very easy for household to meet financ...</td>\n",
       "      <td>37.7</td>\n",
       "      <td>False</td>\n",
       "      <td>True</td>\n",
       "      <td>True</td>\n",
       "      <td>False</td>\n",
       "      <td>False</td>\n",
       "      <td>False</td>\n",
       "    </tr>\n",
       "  </tbody>\n",
       "</table>\n",
       "</div>"
      ],
      "text/plain": [
       "                                           Indicators Percentage  Gender_Men  \\\n",
       "2   Easy or very easy for household to meet financ...       40.5        True   \n",
       "3   Very difficult or difficult for household to m...       39.3        True   \n",
       "7   Neither difficult nor easy for household to me...       36.7        True   \n",
       "11  Easy or very easy for household to meet financ...       39.3        True   \n",
       "14  Easy or very easy for household to meet financ...       37.7       False   \n",
       "\n",
       "    Gender_Women  Sociodemographic characteristics_15 to 24 years  \\\n",
       "2          False                                             True   \n",
       "3          False                                            False   \n",
       "7          False                                            False   \n",
       "11         False                                            False   \n",
       "14          True                                             True   \n",
       "\n",
       "    Sociodemographic characteristics_25 to 54 years  \\\n",
       "2                                             False   \n",
       "3                                              True   \n",
       "7                                             False   \n",
       "11                                            False   \n",
       "14                                            False   \n",
       "\n",
       "    Sociodemographic characteristics_55 to 64 years  \\\n",
       "2                                             False   \n",
       "3                                             False   \n",
       "7                                              True   \n",
       "11                                            False   \n",
       "14                                            False   \n",
       "\n",
       "    Sociodemographic characteristics_65 years and over  \n",
       "2                                               False   \n",
       "3                                               False   \n",
       "7                                               False   \n",
       "11                                               True   \n",
       "14                                              False   "
      ]
     },
     "execution_count": 39,
     "metadata": {},
     "output_type": "execute_result"
    }
   ],
   "source": [
    "age_classes=age.iloc[age.groupby([\"Gender\",\"Sociodemographic characteristics\"])[\"Percentage\"].idxmax()]\n",
    "age_classes_encoded = pd.get_dummies(age_classes, columns=['Gender', 'Sociodemographic characteristics'])\n",
    "X = age_classes_encoded.drop(columns=['Indicators',\"Percentage\"])\n",
    "y = age_classes_encoded['Indicators']\n",
    "logistic_regression_model = LogisticRegression()\n",
    "logistic_regression_model.fit(X, y);\n",
    "age_classes_encoded.head()"
   ]
  },
  {
   "cell_type": "markdown",
   "id": "90de2782-450b-41c0-bc49-f0356849728e",
   "metadata": {},
   "source": [
    "Based on this data, there is not a big difference between Genders, but a lot of difference between ages. Ages 15-24 find it easy or very easy for their household to meet financial needs. 25054 seems to find it the hardest, and 55-64 does not find it difficult nor easy. Over 65 seems to find it easy or very easy. It's important to recognise that this data was aggregated before, and does not have individual records due to Statistics Canada. Therefore, this model uses the maximum for each class to predict. Averages do not apply to individuals. Since we do not have individual records, we cannot use cross validation to test accuracy. We will do that elsewhere."
   ]
  },
  {
   "cell_type": "markdown",
   "id": "dded6390-60c9-4859-a6be-55787209ba1d",
   "metadata": {},
   "source": [
    "### This is our first classification model predicting based on age & gender."
   ]
  },
  {
   "cell_type": "code",
   "execution_count": 40,
   "id": "94805de9-1700-4813-8b51-7d2354322267",
   "metadata": {},
   "outputs": [
    {
     "data": {
      "text/plain": [
       "array(['Easy or very easy for household to meet financial needs 4',\n",
       "       'Neither difficult nor easy for household to meet financial needs 4',\n",
       "       'Very difficult or difficult for household to meet financial needs 4'],\n",
       "      dtype=object)"
      ]
     },
     "execution_count": 40,
     "metadata": {},
     "output_type": "execute_result"
    }
   ],
   "source": [
    "logistic_regression_model.predict([[True,False,False,False,False,True],\n",
    "                                   [False,True,False,False,True,False],[True,False,False,True,False,False]])"
   ]
  },
  {
   "cell_type": "markdown",
   "id": "7d3df6e6-3eae-4338-8cd2-be3006c9f29c",
   "metadata": {},
   "source": [
    "## Creating another Classification Model based on gender & education level"
   ]
  },
  {
   "cell_type": "code",
   "execution_count": 41,
   "id": "8c0f7913-a33e-4c78-8390-cd31776168a2",
   "metadata": {},
   "outputs": [],
   "source": [
    "education_groups = total_groups[21:25]\n",
    "filtered_df = difficulty[difficulty[\"Sociodemographic characteristics\"].isin(education_groups)]\n",
    "\n",
    "# Now, group by gender and \"Sociodemographic characteristics\", and find the row with the maximum percentage within each group\n",
    "education_classes = filtered_df.loc[filtered_df.groupby([\"Gender\", \"Sociodemographic characteristics\"])[\"Percentage\"].idxmax()]\n",
    "education_classes_encoded = pd.get_dummies(education_classes, columns=['Gender', 'Sociodemographic characteristics'])\n",
    "X2 = education_classes_encoded.drop(columns=['Indicators',\"Percentage\",\n",
    "                                             \"Sociodemographic characteristics_Total, highest certificate, diploma or degree\"])\n",
    "y2 = education_classes_encoded['Indicators']\n",
    "logistic_regression_model2 = LogisticRegression()\n",
    "logistic_regression_model2.fit(X2, y2);"
   ]
  },
  {
   "cell_type": "code",
   "execution_count": 42,
   "id": "5780ce42-89c6-48e2-bc37-11097818bbe7",
   "metadata": {},
   "outputs": [
    {
     "data": {
      "text/plain": [
       "array(['Neither difficult nor easy for household to meet financial needs 4'],\n",
       "      dtype=object)"
      ]
     },
     "execution_count": 42,
     "metadata": {},
     "output_type": "execute_result"
    }
   ],
   "source": [
    "logistic_regression_model2.predict([[True,False,True,False,False]])"
   ]
  },
  {
   "cell_type": "code",
   "execution_count": 43,
   "id": "47e0d973-00fe-4700-9102-311458254ecc",
   "metadata": {},
   "outputs": [
    {
     "data": {
      "text/html": [
       "<div>\n",
       "<style scoped>\n",
       "    .dataframe tbody tr th:only-of-type {\n",
       "        vertical-align: middle;\n",
       "    }\n",
       "\n",
       "    .dataframe tbody tr th {\n",
       "        vertical-align: top;\n",
       "    }\n",
       "\n",
       "    .dataframe thead th {\n",
       "        text-align: right;\n",
       "    }\n",
       "</style>\n",
       "<table border=\"1\" class=\"dataframe\">\n",
       "  <thead>\n",
       "    <tr style=\"text-align: right;\">\n",
       "      <th></th>\n",
       "      <th>Indicators</th>\n",
       "      <th>Percentage</th>\n",
       "      <th>Gender_Men</th>\n",
       "      <th>Gender_Women</th>\n",
       "      <th>Sociodemographic characteristics_No certificate, diploma or degree</th>\n",
       "      <th>Sociodemographic characteristics_Postsecondary certificate, diploma or degree</th>\n",
       "      <th>Sociodemographic characteristics_Secondary (high) school diploma or equivalency certificate</th>\n",
       "    </tr>\n",
       "  </thead>\n",
       "  <tbody>\n",
       "    <tr>\n",
       "      <th>67</th>\n",
       "      <td>Neither difficult nor easy for household to me...</td>\n",
       "      <td>37.6</td>\n",
       "      <td>True</td>\n",
       "      <td>False</td>\n",
       "      <td>True</td>\n",
       "      <td>False</td>\n",
       "      <td>False</td>\n",
       "    </tr>\n",
       "    <tr>\n",
       "      <th>73</th>\n",
       "      <td>Neither difficult nor easy for household to me...</td>\n",
       "      <td>34.2</td>\n",
       "      <td>True</td>\n",
       "      <td>False</td>\n",
       "      <td>False</td>\n",
       "      <td>True</td>\n",
       "      <td>False</td>\n",
       "    </tr>\n",
       "    <tr>\n",
       "      <th>70</th>\n",
       "      <td>Neither difficult nor easy for household to me...</td>\n",
       "      <td>38</td>\n",
       "      <td>True</td>\n",
       "      <td>False</td>\n",
       "      <td>False</td>\n",
       "      <td>False</td>\n",
       "      <td>True</td>\n",
       "    </tr>\n",
       "    <tr>\n",
       "      <th>64</th>\n",
       "      <td>Neither difficult nor easy for household to me...</td>\n",
       "      <td>35.7</td>\n",
       "      <td>True</td>\n",
       "      <td>False</td>\n",
       "      <td>False</td>\n",
       "      <td>False</td>\n",
       "      <td>False</td>\n",
       "    </tr>\n",
       "    <tr>\n",
       "      <th>156</th>\n",
       "      <td>Very difficult or difficult for household to m...</td>\n",
       "      <td>36.1</td>\n",
       "      <td>False</td>\n",
       "      <td>True</td>\n",
       "      <td>True</td>\n",
       "      <td>False</td>\n",
       "      <td>False</td>\n",
       "    </tr>\n",
       "  </tbody>\n",
       "</table>\n",
       "</div>"
      ],
      "text/plain": [
       "                                            Indicators Percentage  Gender_Men  \\\n",
       "67   Neither difficult nor easy for household to me...       37.6        True   \n",
       "73   Neither difficult nor easy for household to me...       34.2        True   \n",
       "70   Neither difficult nor easy for household to me...         38        True   \n",
       "64   Neither difficult nor easy for household to me...       35.7        True   \n",
       "156  Very difficult or difficult for household to m...       36.1       False   \n",
       "\n",
       "     Gender_Women  \\\n",
       "67          False   \n",
       "73          False   \n",
       "70          False   \n",
       "64          False   \n",
       "156          True   \n",
       "\n",
       "     Sociodemographic characteristics_No certificate, diploma or degree  \\\n",
       "67                                                True                    \n",
       "73                                               False                    \n",
       "70                                               False                    \n",
       "64                                               False                    \n",
       "156                                               True                    \n",
       "\n",
       "     Sociodemographic characteristics_Postsecondary certificate, diploma or degree  \\\n",
       "67                                               False                               \n",
       "73                                                True                               \n",
       "70                                               False                               \n",
       "64                                               False                               \n",
       "156                                              False                               \n",
       "\n",
       "     Sociodemographic characteristics_Secondary (high) school diploma or equivalency certificate  \n",
       "67                                               False                                            \n",
       "73                                               False                                            \n",
       "70                                                True                                            \n",
       "64                                               False                                            \n",
       "156                                              False                                            "
      ]
     },
     "execution_count": 43,
     "metadata": {},
     "output_type": "execute_result"
    }
   ],
   "source": [
    "education_classes_encoded.drop(\"Sociodemographic characteristics_Total, highest certificate, diploma or degree\",axis=1).head()"
   ]
  },
  {
   "cell_type": "code",
   "execution_count": null,
   "id": "d268d317-b15d-4e7c-8d55-037b5213ad6b",
   "metadata": {},
   "outputs": [],
   "source": []
  }
 ],
 "metadata": {
  "kernelspec": {
   "display_name": "Python 3 (ipykernel)",
   "language": "python",
   "name": "python3"
  },
  "language_info": {
   "codemirror_mode": {
    "name": "ipython",
    "version": 3
   },
   "file_extension": ".py",
   "mimetype": "text/x-python",
   "name": "python",
   "nbconvert_exporter": "python",
   "pygments_lexer": "ipython3",
   "version": "3.11.6"
  }
 },
 "nbformat": 4,
 "nbformat_minor": 5
}
